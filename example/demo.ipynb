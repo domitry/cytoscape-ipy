{
 "metadata": {
  "name": ""
 },
 "nbformat": 3,
 "nbformat_minor": 0,
 "worksheets": [
  {
   "cells": [
    {
     "cell_type": "code",
     "collapsed": false,
     "input": [
      "import cytoscape.main as cy"
     ],
     "language": "python",
     "metadata": {},
     "outputs": [],
     "prompt_number": 1
    },
    {
     "cell_type": "code",
     "collapsed": false,
     "input": [
      "cy.init_ipynb()"
     ],
     "language": "python",
     "metadata": {},
     "outputs": [
      {
       "html": [
        "<script>\n",
        "if(window['cytoscape'] === undefined){\n",
        "    var paths = {\n",
        "\tcytoscape: 'http://cytoscape.github.io/cytoscape.js/api/cytoscape.js-latest/cytoscape.min',\n",
        "    };\n",
        "    \n",
        "    console.log('Begin loading all JavaScript libs...');\n",
        "    require.config({paths: paths});\n",
        "\n",
        "    require(['cytoscape'], function(cytoscape){\n",
        "\twindow['cytoscape'] = cytoscape;\n",
        "\tconsole.log('Finished loading jQuery and Cytoscape.js.');\n",
        "\n",
        "\tvar event = document.createEvent(\"HTMLEvents\");\n",
        "\tevent.initEvent(\"load_cytoscape\", true, false);\n",
        "\twindow.dispatchEvent(event);\n",
        "    });\n",
        "}\n",
        "</script>\n"
       ],
       "metadata": {},
       "output_type": "display_data",
       "text": [
        "<IPython.core.display.HTML at 0x28045d0>"
       ]
      }
     ],
     "prompt_number": 2
    },
    {
     "cell_type": "code",
     "collapsed": false,
     "input": [
      "cy.plot()"
     ],
     "language": "python",
     "metadata": {},
     "outputs": [
      {
       "html": [
        "<!DOCTYPE html>\n",
        "<html>\n",
        "<head>\n",
        "<meta charset=utf-8 />\n",
        "<title>Animated BFS</title>\n",
        "<style type=\"text/css\">\n",
        "body { \n",
        "  font: 14px helvetica neue, helvetica, arial, sans-serif;\n",
        "}\n",
        "\n",
        "#cy {\n",
        "  height: 500px;\n",
        "  width: 500px;\n",
        "  position: absolute;\n",
        "  left: 0;\n",
        "  top: 0;\n",
        "}\n",
        "</style>\n",
        "\n",
        "<script>\n",
        "(function(){\n",
        "\n",
        "function render(){\n",
        "$('#cy').cytoscape({\n",
        "  style: cytoscape.stylesheet()\n",
        "    .selector('node')\n",
        "      .css({\n",
        "        'content': 'data(id)'\n",
        "      })\n",
        "    .selector('edge')\n",
        "      .css({\n",
        "        'target-arrow-shape': 'triangle',\n",
        "        'width': 4,\n",
        "        'line-color': '#ddd',\n",
        "        'target-arrow-color': '#ddd'\n",
        "      })\n",
        "    .selector('.highlighted')\n",
        "      .css({\n",
        "        'background-color': '#61bffc',\n",
        "        'line-color': '#61bffc',\n",
        "        'target-arrow-color': '#61bffc',\n",
        "        'transition-property': 'background-color, line-color, target-arrow-color',\n",
        "        'transition-duration': '0.5s'\n",
        "      }),\n",
        "  \n",
        "  elements: {\n",
        "      nodes: [{\"data\": {\"id\": \"a\"}}, {\"data\": {\"id\": \"b\"}}, {\"data\": {\"id\": \"c\"}}, {\"data\": {\"id\": \"d\"}}, {\"data\": {\"id\": \"e\"}}],\n",
        "      \n",
        "      edges: [{\"data\": {\"source\": \"a\", \"id\": \"a\", \"weight\": 1, \"target\": \"e\"}}, {\"data\": {\"source\": \"a\", \"id\": \"ab\", \"weight\": 3, \"target\": \"b\"}}, {\"data\": {\"source\": \"b\", \"id\": \"be\", \"weight\": 4, \"target\": \"e\"}}, {\"data\": {\"source\": \"b\", \"id\": \"bc\", \"weight\": 5, \"target\": \"c\"}}, {\"data\": {\"source\": \"c\", \"id\": \"ce\", \"weight\": 6, \"target\": \"e\"}}, {\"data\": {\"source\": \"c\", \"id\": \"cd\", \"weight\": 2, \"target\": \"d\"}}, {\"data\": {\"source\": \"d\", \"id\": \"de\", \"weight\": 7, \"target\": \"e\"}}]\n",
        "    },\n",
        "  \n",
        "  layout: {\n",
        "    name: 'breadthfirst',\n",
        "    directed: true,\n",
        "    roots: '#a',\n",
        "    padding: 10\n",
        "  },\n",
        "  \n",
        "  ready: function(){\n",
        "    window.cy = this;\n",
        "    \n",
        "    var bfs = cy.elements().bfs('#a', function(){}, true);\n",
        "    \n",
        "    var i = 0;\n",
        "    var highlightNextEle = function(){\n",
        "      bfs.path[i].addClass('highlighted');\n",
        "      \n",
        "      if( i < bfs.path.length ){\n",
        "        i++;\n",
        "        setTimeout(highlightNextEle, 1000);\n",
        "      }\n",
        "    };\n",
        "    \n",
        "    // kick off first highlight\n",
        "    highlightNextEle();\n",
        "  }\n",
        "});\n",
        "};\n",
        "\n",
        "var before_render = function(){\n",
        "    if(window['cytoscape'] === undefined){\n",
        "         console.log(\"wait!\");\n",
        "\t window.addEventListener(\"load_cytoscape\", before_render);\n",
        "    }else{\n",
        "\t console.log(\"begin rendering!\");\n",
        "\t render();\n",
        "    }\n",
        "}\n",
        "\n",
        "before_render();\n",
        "\n",
        "})();\n",
        "</script>\n",
        "</head>\n",
        "<body>\n",
        "  <div id=\"cy\"></div>\n",
        "  <div id=\"dammy\" style=\"width:700px;height:500px\">\n",
        "</body>\n",
        "</html>"
       ],
       "metadata": {},
       "output_type": "display_data",
       "text": [
        "<IPython.core.display.HTML at 0x2a1de50>"
       ]
      }
     ],
     "prompt_number": 11
    },
    {
     "cell_type": "code",
     "collapsed": false,
     "input": [
      "{{"
     ],
     "language": "python",
     "metadata": {},
     "outputs": []
    }
   ],
   "metadata": {}
  }
 ]
}